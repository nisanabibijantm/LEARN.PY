{
  "nbformat": 4,
  "nbformat_minor": 0,
  "metadata": {
    "colab": {
      "name": "TASK 17.ipynb",
      "provenance": []
    },
    "kernelspec": {
      "name": "python3",
      "display_name": "Python 3"
    },
    "language_info": {
      "name": "python"
    }
  },
  "cells": [
    {
      "cell_type": "markdown",
      "metadata": {
        "id": "0SLapvpoaeYY"
      },
      "source": [
        "1. Create a DataFrame by passing a random numpy array,with a datetie index and labelled columns.and display its,\n",
        "     - Head\n",
        "     - Tail\n",
        "     - Index \n",
        "     - Columns\n",
        "     - Values\n",
        "     - statistics\n"
      ]
    },
    {
      "cell_type": "code",
      "metadata": {
        "id": "zJDkjyVxa5yU",
        "outputId": "949d811d-a7d3-4812-ea23-f259bdd94832",
        "colab": {
          "base_uri": "https://localhost:8080/"
        }
      },
      "source": [
        "#please type your answer below this line.\n",
        "import numpy as np\n",
        "import pandas as pd\n",
        "datetie = pd.date_range('2021-08-30' ,periods=4)\n",
        "df = pd.DataFrame(np.random.randn(4,4), index=datetie, columns=list('ABCD'))\n",
        "print(\"Head:\\n\", df.head())\n",
        "print(\"Tail:\\n\", df.tail())\n",
        "print(\"Index:\\n\", df.index)\n",
        "print(\"Columns:\\n\", df.columns)\n",
        "print(\"Values:\\n\", df.values)\n",
        "print(\"Statistics:\\n\", df.describe(include='all'))"
      ],
      "execution_count": 4,
      "outputs": [
        {
          "output_type": "stream",
          "name": "stdout",
          "text": [
            "Head:\n",
            "                    A         B         C         D\n",
            "2021-08-30  0.864937  1.347978  0.506583 -0.171222\n",
            "2021-08-31  0.665431 -0.899810 -0.018916 -1.549593\n",
            "2021-09-01 -1.254894 -0.499196 -1.000246 -1.244260\n",
            "2021-09-02 -0.441530 -0.019370 -0.942566 -1.471744\n",
            "Tail:\n",
            "                    A         B         C         D\n",
            "2021-08-30  0.864937  1.347978  0.506583 -0.171222\n",
            "2021-08-31  0.665431 -0.899810 -0.018916 -1.549593\n",
            "2021-09-01 -1.254894 -0.499196 -1.000246 -1.244260\n",
            "2021-09-02 -0.441530 -0.019370 -0.942566 -1.471744\n",
            "Index:\n",
            " DatetimeIndex(['2021-08-30', '2021-08-31', '2021-09-01', '2021-09-02'], dtype='datetime64[ns]', freq='D')\n",
            "Columns:\n",
            " Index(['A', 'B', 'C', 'D'], dtype='object')\n",
            "Values:\n",
            " [[ 0.86493727  1.34797811  0.5065831  -0.17122174]\n",
            " [ 0.66543109 -0.89981004 -0.01891565 -1.54959298]\n",
            " [-1.25489395 -0.4991964  -1.00024621 -1.24425966]\n",
            " [-0.44153032 -0.01936954 -0.94256552 -1.47174373]]\n",
            "Statistics:\n",
            "               A         B         C         D\n",
            "count  4.000000  4.000000  4.000000  4.000000\n",
            "mean  -0.041514 -0.017599 -0.363786 -1.109205\n",
            "std    0.992258  0.978951  0.734063  0.638600\n",
            "min   -1.254894 -0.899810 -1.000246 -1.549593\n",
            "25%   -0.644871 -0.599350 -0.956986 -1.491206\n",
            "50%    0.111950 -0.259283 -0.480741 -1.358002\n",
            "75%    0.715308  0.322467  0.112459 -0.976000\n",
            "max    0.864937  1.347978  0.506583 -0.171222\n"
          ]
        }
      ]
    },
    {
      "cell_type": "markdown",
      "metadata": {
        "id": "xnkA2mKDdyoO"
      },
      "source": [
        "2. Use the above table and,\n",
        "      - find transpose of your data.\n",
        "      - sort the index in the descending order of the date."
      ]
    },
    {
      "cell_type": "code",
      "metadata": {
        "id": "uqcQSEOufJ5P",
        "outputId": "ef771402-2250-431e-8805-ece92a793739",
        "colab": {
          "base_uri": "https://localhost:8080/"
        }
      },
      "source": [
        "#please provide your answer below this line.\n",
        "print(\"Transpose\\n\" , df.transpose())\n",
        "print(\"Sorted in Descending Order\\n\" , df.sort_index(ascending=False))"
      ],
      "execution_count": 3,
      "outputs": [
        {
          "output_type": "stream",
          "name": "stdout",
          "text": [
            "Transpose\n",
            "    2021-08-30  2021-08-31  2021-09-01  2021-09-02\n",
            "A   -0.722003   -0.538166    0.622751    0.225840\n",
            "B    0.634784   -0.778754    0.604609   -1.929643\n",
            "C   -1.378001   -0.413602   -1.618353    0.658484\n",
            "D   -0.395848   -0.251114   -2.429237    0.145666\n",
            "Sorted in Descending Order\n",
            "                    A         B         C         D\n",
            "2021-09-02  0.225840 -1.929643  0.658484  0.145666\n",
            "2021-09-01  0.622751  0.604609 -1.618353 -2.429237\n",
            "2021-08-31 -0.538166 -0.778754 -0.413602 -0.251114\n",
            "2021-08-30 -0.722003  0.634784 -1.378001 -0.395848\n"
          ]
        }
      ]
    },
    {
      "cell_type": "markdown",
      "metadata": {
        "id": "ss7s_8iDbAcL"
      },
      "source": [
        ""
      ]
    }
  ]
}
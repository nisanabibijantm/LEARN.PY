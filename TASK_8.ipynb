{
  "nbformat": 4,
  "nbformat_minor": 0,
  "metadata": {
    "colab": {
      "name": "TASK 8.ipynb",
      "provenance": []
    },
    "kernelspec": {
      "name": "python3",
      "display_name": "Python 3"
    },
    "language_info": {
      "name": "python"
    }
  },
  "cells": [
    {
      "cell_type": "markdown",
      "metadata": {
        "id": "slsGswYbJSo7"
      },
      "source": [
        "1. Generate a 3 x 3 matrix using random module."
      ]
    },
    {
      "cell_type": "code",
      "metadata": {
        "id": "GGRQSYyNJW9t",
        "outputId": "6e1569e0-951a-4718-cb8e-56428c981366",
        "colab": {
          "base_uri": "https://localhost:8080/"
        }
      },
      "source": [
        "#please provide your answer below this line.\n",
        "import numpy as np\n",
        "x =  np.arange(2, 11).reshape(3,3)\n",
        "print(x)"
      ],
      "execution_count": 1,
      "outputs": [
        {
          "output_type": "stream",
          "text": [
            "[[ 2  3  4]\n",
            " [ 5  6  7]\n",
            " [ 8  9 10]]\n"
          ],
          "name": "stdout"
        }
      ]
    },
    {
      "cell_type": "markdown",
      "metadata": {
        "id": "4OB9KFX6JfYA"
      },
      "source": [
        "2. Generate two 4 x 4 matrix using numpy and \n",
        "\n",
        " a) Reshape it to 2 x 8matrix and vertically stack it.\n",
        "\n",
        " b) Reshape it to 2 x 8 matrix and horizontally stack it."
      ]
    },
    {
      "cell_type": "code",
      "metadata": {
        "id": "VoIqYeNWJ4H_",
        "outputId": "20c0ff82-cf9b-487f-b24c-9ab5fdc5e29a",
        "colab": {
          "base_uri": "https://localhost:8080/"
        }
      },
      "source": [
        "#please provide your answer below this line.\n",
        "import numpy as np\n",
        "x =  np.arange(2, 18).reshape(4,4)\n",
        "print(x)\n",
        "\n",
        "y =  np.arange(19,35).reshape(4,4)\n",
        "print(y)\n",
        "\n",
        "x = np.arange(2, 18).reshape(2,8) \n",
        "print(x)\n",
        "\n",
        "y = np.arange(19,35).reshape(2,8)\n",
        "print(y)\n",
        "\n",
        "z = np.vstack((x,y)) \n",
        "print(z)\n",
        "\n",
        "w = np.hstack((x, y)) \n",
        "print(w)"
      ],
      "execution_count": 2,
      "outputs": [
        {
          "output_type": "stream",
          "text": [
            "[[ 2  3  4  5]\n",
            " [ 6  7  8  9]\n",
            " [10 11 12 13]\n",
            " [14 15 16 17]]\n",
            "[[19 20 21 22]\n",
            " [23 24 25 26]\n",
            " [27 28 29 30]\n",
            " [31 32 33 34]]\n",
            "[[ 2  3  4  5  6  7  8  9]\n",
            " [10 11 12 13 14 15 16 17]]\n",
            "[[19 20 21 22 23 24 25 26]\n",
            " [27 28 29 30 31 32 33 34]]\n",
            "[[ 2  3  4  5  6  7  8  9]\n",
            " [10 11 12 13 14 15 16 17]\n",
            " [19 20 21 22 23 24 25 26]\n",
            " [27 28 29 30 31 32 33 34]]\n",
            "[[ 2  3  4  5  6  7  8  9 19 20 21 22 23 24 25 26]\n",
            " [10 11 12 13 14 15 16 17 27 28 29 30 31 32 33 34]]\n"
          ],
          "name": "stdout"
        }
      ]
    }
  ]
}
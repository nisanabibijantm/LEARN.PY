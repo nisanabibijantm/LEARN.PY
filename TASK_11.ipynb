{
  "nbformat": 4,
  "nbformat_minor": 0,
  "metadata": {
    "colab": {
      "name": "TASK 11.ipynb",
      "provenance": []
    },
    "kernelspec": {
      "name": "python3",
      "display_name": "Python 3"
    },
    "language_info": {
      "name": "python"
    }
  },
  "cells": [
    {
      "cell_type": "markdown",
      "metadata": {
        "id": "Ud2gZIbu6E59"
      },
      "source": [
        "N.B: Please find the answers by applying the functions on the matrices"
      ]
    },
    {
      "cell_type": "markdown",
      "metadata": {
        "id": "_9JX1Vdn4sTN"
      },
      "source": [
        "1. Create 2 3×3 matrix with 0-8 and 10-19 as elements in each and perform the vectorize multiplication operations on the matrices.(Outer product, Dot product, Element wise product)."
      ]
    },
    {
      "cell_type": "code",
      "metadata": {
        "id": "aBzAn6Z75VQ6",
        "outputId": "7de19ed9-893b-45a5-d649-d719d161f88a",
        "colab": {
          "base_uri": "https://localhost:8080/"
        }
      },
      "source": [
        "#please type your answer below this line.\n",
        "import numpy as np\n",
        "\n",
        "x = np.arange(0,9).reshape(3,3)\n",
        "y = np.arange(10,19).reshape(3,3) \n",
        "print(\"\\nMatrices :\")\n",
        "print(x)\n",
        "print(y) \n",
        "\n",
        "print(\"\\nOuter product of matrices x =\")\n",
        "print(np.outer(x,y)) \n",
        "\n",
        "print(\"\\nDot product of matrices x and y =\")\n",
        "print(np.dot(x,y)) \n",
        "\n",
        "print(\"\\nMultiply matrices x and y =\")\n",
        "print(np.multiply(x,y))"
      ],
      "execution_count": 35,
      "outputs": [
        {
          "output_type": "stream",
          "text": [
            "\n",
            "Matrices :\n",
            "[[0 1 2]\n",
            " [3 4 5]\n",
            " [6 7 8]]\n",
            "[[10 11 12]\n",
            " [13 14 15]\n",
            " [16 17 18]]\n",
            "\n",
            "Outer product of matrices x =\n",
            "[[  0   0   0   0   0   0   0   0   0]\n",
            " [ 10  11  12  13  14  15  16  17  18]\n",
            " [ 20  22  24  26  28  30  32  34  36]\n",
            " [ 30  33  36  39  42  45  48  51  54]\n",
            " [ 40  44  48  52  56  60  64  68  72]\n",
            " [ 50  55  60  65  70  75  80  85  90]\n",
            " [ 60  66  72  78  84  90  96 102 108]\n",
            " [ 70  77  84  91  98 105 112 119 126]\n",
            " [ 80  88  96 104 112 120 128 136 144]]\n",
            "\n",
            "Dot product of matrices x and y =\n",
            "[[ 45  48  51]\n",
            " [162 174 186]\n",
            " [279 300 321]]\n",
            "\n",
            "Multiply matrices x and y =\n",
            "[[  0  11  24]\n",
            " [ 39  56  75]\n",
            " [ 96 119 144]]\n"
          ],
          "name": "stdout"
        }
      ]
    },
    {
      "cell_type": "markdown",
      "metadata": {
        "id": "gJGtIjx25k92"
      },
      "source": [
        "2. Create a 4×4 matrix with 0-16  as elements in it. Add a scalar 4 to the matrix and also multiply it with [1,2,3,4] 1-D matrix by broadcasting. ( Please note to do both the addition and multiplication by broadcasting.)"
      ]
    },
    {
      "cell_type": "code",
      "metadata": {
        "id": "H7cznh8M56r-",
        "outputId": "8524e581-89e6-40d8-a28c-a05c213800a0",
        "colab": {
          "base_uri": "https://localhost:8080/"
        }
      },
      "source": [
        "#please type your answer below this line.\n",
        "import numpy as np\n",
        "\n",
        "x = np.arange(0,16).reshape(4,4) \n",
        "print(x) \n",
        "\n",
        "y = x + 4\n",
        "print(y)\n",
        "\n",
        "z = np.array([1,2,3,4]) \n",
        "w = y * z\n",
        "print(w)"
      ],
      "execution_count": 34,
      "outputs": [
        {
          "output_type": "stream",
          "text": [
            "[[ 0  1  2  3]\n",
            " [ 4  5  6  7]\n",
            " [ 8  9 10 11]\n",
            " [12 13 14 15]]\n",
            "[[ 4  5  6  7]\n",
            " [ 8  9 10 11]\n",
            " [12 13 14 15]\n",
            " [16 17 18 19]]\n",
            "[[ 4 10 18 28]\n",
            " [ 8 18 30 44]\n",
            " [12 26 42 60]\n",
            " [16 34 54 76]]\n"
          ],
          "name": "stdout"
        }
      ]
    }
  ]
}
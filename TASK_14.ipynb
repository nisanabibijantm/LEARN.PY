{
  "nbformat": 4,
  "nbformat_minor": 0,
  "metadata": {
    "colab": {
      "name": "TASK 14.ipynb",
      "provenance": []
    },
    "kernelspec": {
      "name": "python3",
      "display_name": "Python 3"
    },
    "language_info": {
      "name": "python"
    }
  },
  "cells": [
    {
      "cell_type": "markdown",
      "metadata": {
        "id": "pDx7KyZoXYNb"
      },
      "source": [
        "1. Create two arrays, one containing elements [1,2], [3,4] and another containing elements [8,18] Now find the solution for this linear equation."
      ]
    },
    {
      "cell_type": "code",
      "metadata": {
        "id": "1HQu2yB2YMbj",
        "outputId": "eaa44bf2-edc3-4574-c466-7e7818c823a5",
        "colab": {
          "base_uri": "https://localhost:8080/"
        }
      },
      "source": [
        "#please type your answer below this line.\n",
        "import numpy as np\n",
        "x = np.array([[1,2],[3,4]])\n",
        "y = np.array([8,18])\n",
        "np.linalg.solve(x,y)"
      ],
      "execution_count": 20,
      "outputs": [
        {
          "output_type": "execute_result",
          "data": {
            "text/plain": [
              "array([2., 3.])"
            ]
          },
          "metadata": {},
          "execution_count": 20
        }
      ]
    },
    {
      "cell_type": "markdown",
      "metadata": {
        "id": "RyDr51p8ZxQp"
      },
      "source": [
        "2. Create an array containing elements [2, 3, 4]. Now find the sin,cos,tan values of this array elements."
      ]
    },
    {
      "cell_type": "code",
      "metadata": {
        "id": "iXZByHNOaXbk",
        "outputId": "ab78fc36-eb09-4250-f457-fedfa6bbc999",
        "colab": {
          "base_uri": "https://localhost:8080/"
        }
      },
      "source": [
        "#please type your answer below this line.\n",
        "import numpy as np\n",
        "import math\n",
        "x = np.array([2,3,4])\n",
        "\n",
        "sin_x = np.sin(x)\n",
        "print(sin_x)\n",
        "\n",
        "cos_x = np.cos(x)\n",
        "print(cos_x) \n",
        "\n",
        "tan_x = np.sin(x)/np.cos(x)\n",
        "print(tan_x)"
      ],
      "execution_count": 21,
      "outputs": [
        {
          "output_type": "stream",
          "name": "stdout",
          "text": [
            "[ 0.90929743  0.14112001 -0.7568025 ]\n",
            "[-0.41614684 -0.9899925  -0.65364362]\n",
            "[-2.18503986 -0.14254654  1.15782128]\n"
          ]
        }
      ]
    },
    {
      "cell_type": "markdown",
      "metadata": {
        "id": "Itk2DMc6b60J"
      },
      "source": [
        "3. Given b=[5,6], then find,\n",
        "\n",
        "  a) 2sinb\n",
        "  b) 2cos3b\n",
        "  c) 4tan2b"
      ]
    },
    {
      "cell_type": "code",
      "metadata": {
        "id": "lgxpIaKebw5y",
        "outputId": "9f58633f-34a9-4b41-8999-020b6d42eb1b",
        "colab": {
          "base_uri": "https://localhost:8080/"
        }
      },
      "source": [
        "#please type your answer below this line.\n",
        "import numpy as np\n",
        "import math\n",
        "b = np.array([5,6])\n",
        "\n",
        "print(\"2sinb\")\n",
        "x = np.sin(b)\n",
        "x1 = 2*x\n",
        "print(x1)\n",
        "\n",
        "print(\"2cos3b\")\n",
        "y = 3*b\n",
        "y1 = np.cos(y)\n",
        "y2 = 2*y1\n",
        "print(y2)\n",
        "\n",
        "print(\"4tan2b\")\n",
        "z = 2*b\n",
        "z1 = np.sin(z)/np.cos(z)\n",
        "z2 = 4*z1\n",
        "print(z2)"
      ],
      "execution_count": 22,
      "outputs": [
        {
          "output_type": "stream",
          "name": "stdout",
          "text": [
            "2sinb\n",
            "[-1.91784855 -0.558831  ]\n",
            "2cos3b\n",
            "[-1.51937583  1.32063342]\n",
            "4tan2b\n",
            "[ 2.59344331 -2.54343971]\n"
          ]
        }
      ]
    }
  ]
}
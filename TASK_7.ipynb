{
  "nbformat": 4,
  "nbformat_minor": 0,
  "metadata": {
    "colab": {
      "name": "TASK  7.ipynb",
      "provenance": []
    },
    "kernelspec": {
      "name": "python3",
      "display_name": "Python 3"
    },
    "language_info": {
      "name": "python"
    }
  },
  "cells": [
    {
      "cell_type": "markdown",
      "metadata": {
        "id": "b0V3vwzcydKy"
      },
      "source": [
        "1. Write a program to check whether a  string is palindrome or not using functions. \n",
        "\n",
        "   ( A function is to be created to check whether the string is palindrome and it should give the output true or false to the main program)"
      ]
    },
    {
      "cell_type": "code",
      "metadata": {
        "id": "M2Mi7EOdyxiu",
        "outputId": "04c1e54c-1b76-4fbb-e931-d67a5f3ff479",
        "colab": {
          "base_uri": "https://localhost:8080/"
        }
      },
      "source": [
        "#please enter the code below this line.\n",
        "def isPalindrome(s):\n",
        "\n",
        "    return s == s[::-1]\n",
        "\n",
        "s = \"malayalam\"\n",
        "\n",
        "ans = isPalindrome(s)\n",
        "\n",
        "\n",
        "if ans:\n",
        "\n",
        "    print(\"Yes\") \n",
        "\n",
        "else:\n",
        "\n",
        "    print(\"No\")"
      ],
      "execution_count": 7,
      "outputs": [
        {
          "output_type": "stream",
          "text": [
            "Yes\n"
          ],
          "name": "stdout"
        }
      ]
    },
    {
      "cell_type": "markdown",
      "metadata": {
        "id": "vSiShTyOzEz-"
      },
      "source": [
        "2.  Write a menu driven program to find largest element in L, smallest element, avg of all values, sum of all values in L. All these operation should be performed in different functions and the result should be returned.\n",
        "\n",
        "\n",
        "      L=[23,24,11,90,1,41,9,99,28,56,72]"
      ]
    },
    {
      "cell_type": "code",
      "metadata": {
        "id": "fRtMIw_CzsmO",
        "outputId": "c2567cba-3098-4bd2-dd32-4db2ceae6c15",
        "colab": {
          "base_uri": "https://localhost:8080/"
        }
      },
      "source": [
        "#please enter the code below this line.\n",
        "def largest(l):\n",
        "    large=l[0] \n",
        "    for i in l:\n",
        "        if(i>large):\n",
        "            large=i\n",
        "    return large\n",
        "def smallest(l):\n",
        "    small=l[0] \n",
        "    for i in l:\n",
        "        if(i<small):             \n",
        "            small=i\n",
        "    return small\n",
        "def sum(l):\n",
        "    s=0\n",
        "    for i in l:\n",
        "        s=s+i\n",
        "    return s\n",
        "def avg(l):\n",
        "    avg=sum(l)/len(l) \n",
        "    return avg\n",
        "l=[23,24,11,90,1,41,9,99,28,56,72] \n",
        "print(\"Largest number is =\", largest(l)) \n",
        "print(\"Smallest number is=\", smallest(l)) \n",
        "print(\"Sum of values=\", sum(l)) \n",
        "print(\"Average of values=\", avg(l))"
      ],
      "execution_count": 6,
      "outputs": [
        {
          "output_type": "stream",
          "text": [
            "Largest number is = 99\n",
            "Smallest number is= 1\n",
            "Sum of values= 454\n",
            "Average of values= 41.27272727272727\n"
          ],
          "name": "stdout"
        }
      ]
    }
  ]
}
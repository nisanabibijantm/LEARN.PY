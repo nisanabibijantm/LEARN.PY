{
  "nbformat": 4,
  "nbformat_minor": 0,
  "metadata": {
    "colab": {
      "name": "TASK 21.ipynb",
      "provenance": []
    },
    "kernelspec": {
      "name": "python3",
      "display_name": "Python 3"
    },
    "language_info": {
      "name": "python"
    }
  },
  "cells": [
    {
      "cell_type": "markdown",
      "metadata": {
        "id": "wK9sv7fHTnyo"
      },
      "source": [
        "1.  Using the dataset given below,\n",
        "  - Group the given dataset by A and find the sum of the groups.\n",
        "  - Find the 3 least elements from the column D\n",
        "  - Find the 3 largest elements from the Column D which belongs to the group\n",
        "  'bar'."
      ]
    },
    {
      "cell_type": "code",
      "metadata": {
        "id": "C_Kq4i_rVNyB",
        "outputId": "3fe85b19-81ec-4eb7-c38c-d9f0f686f918",
        "colab": {
          "base_uri": "https://localhost:8080/"
        }
      },
      "source": [
        "import pandas as pd\n",
        "import numpy as np\n",
        "df = pd.DataFrame({'A' : ['foo', 'bar', 'foo', 'bar',\n",
        "                          'foo', 'bar', 'foo', 'foo'],\n",
        "                   'B' : ['one', 'one', 'two', 'three',\n",
        "                          'two', 'two', 'one', 'three'],\n",
        "                   'C' : np.random.randn(8),\n",
        "                   'D' : np.random.randn(8)})\n",
        "df\n",
        "#please type your code below this line.\n",
        "print(df)\n",
        "\n",
        "df1 = df.groupby(\"A\").sum()\n",
        "print(df1)\n",
        "\n",
        "df2 = df.sort_values(\"D\")\n",
        "df3 = df2.iloc[:3]\n",
        "print(df3)\n",
        "\n",
        "df4 = df.sort_values(by=\"D\", ascending=False)\n",
        "df5 = df4[df.A==\"bar\"].head()\n",
        "print(df5)"
      ],
      "execution_count": 2,
      "outputs": [
        {
          "output_type": "stream",
          "name": "stdout",
          "text": [
            "     A      B         C         D\n",
            "0  foo    one  0.914991 -1.625643\n",
            "1  bar    one -0.785770 -0.327834\n",
            "2  foo    two -2.344457 -0.130006\n",
            "3  bar  three -0.325965  0.653235\n",
            "4  foo    two  0.775372  1.638587\n",
            "5  bar    two -2.096990 -0.464086\n",
            "6  foo    one  1.395021  0.852654\n",
            "7  foo  three  0.023552 -0.303667\n",
            "            C         D\n",
            "A                      \n",
            "bar -3.208725 -0.138685\n",
            "foo  0.764479  0.431925\n",
            "     A    B         C         D\n",
            "0  foo  one  0.914991 -1.625643\n",
            "5  bar  two -2.096990 -0.464086\n",
            "1  bar  one -0.785770 -0.327834\n",
            "     A      B         C         D\n",
            "3  bar  three -0.325965  0.653235\n",
            "1  bar    one -0.785770 -0.327834\n",
            "5  bar    two -2.096990 -0.464086\n"
          ]
        },
        {
          "output_type": "stream",
          "name": "stderr",
          "text": [
            "/usr/local/lib/python3.7/dist-packages/ipykernel_launcher.py:21: UserWarning: Boolean Series key will be reindexed to match DataFrame index.\n"
          ]
        }
      ]
    },
    {
      "cell_type": "markdown",
      "metadata": {
        "id": "68XLHGsrdHXb"
      },
      "source": [
        "2. Using the dataset given below,\n",
        "  - convert the dataset into a csv file.\n",
        "  - read the csv file just saved\n",
        "  - covert the dataset into a excel file.\n",
        "  - read the excel file just saved."
      ]
    },
    {
      "cell_type": "code",
      "metadata": {
        "id": "J4BOx3UZdVLV",
        "outputId": "540fa369-46ad-4ecc-e88d-c6f266f56fc7",
        "colab": {
          "base_uri": "https://localhost:8080/"
        }
      },
      "source": [
        "import pandas as pd\n",
        "import numpy as np\n",
        "df = pd.DataFrame({'A' : ['foo', 'bar', 'foo', 'bar',\n",
        "                          'foo', 'bar', 'foo', 'foo'],\n",
        "                   'B' : ['one', 'one', 'two', 'three',\n",
        "                          'two', 'two', 'one', 'three'],\n",
        "                   'C' : np.random.randn(8),\n",
        "                   'D' : np.random.randn(8)})\n",
        "#please type your code below this line.\n",
        "df1 = df.to_csv('csvFile.csv')\n",
        "print(df1)\n",
        "\n",
        "df2 = pd.read_csv('csvFile.csv')\n",
        "print(df2)\n",
        "\n",
        "df3 = df.to_excel('excelFile.xlsx')\n",
        "print(df3)\n",
        "\n",
        "df4 = pd.read_excel('excelFile.xlsx')\n",
        "print(df4)\n",
        "None"
      ],
      "execution_count": 1,
      "outputs": [
        {
          "output_type": "stream",
          "name": "stdout",
          "text": [
            "None\n",
            "   Unnamed: 0    A      B         C         D\n",
            "0           0  foo    one  0.162289  0.023170\n",
            "1           1  bar    one -0.481944 -0.819735\n",
            "2           2  foo    two  1.654771 -0.417876\n",
            "3           3  bar  three -0.422175  0.109960\n",
            "4           4  foo    two  0.153820 -0.006008\n",
            "5           5  bar    two  1.586706  0.702397\n",
            "6           6  foo    one -1.009406 -0.609138\n",
            "7           7  foo  three  0.712472  0.004507\n",
            "None\n",
            "   Unnamed: 0    A      B         C         D\n",
            "0           0  foo    one  0.162289  0.023170\n",
            "1           1  bar    one -0.481944 -0.819735\n",
            "2           2  foo    two  1.654771 -0.417876\n",
            "3           3  bar  three -0.422175  0.109960\n",
            "4           4  foo    two  0.153820 -0.006008\n",
            "5           5  bar    two  1.586706  0.702397\n",
            "6           6  foo    one -1.009406 -0.609138\n",
            "7           7  foo  three  0.712472  0.004507\n"
          ]
        }
      ]
    }
  ]
}
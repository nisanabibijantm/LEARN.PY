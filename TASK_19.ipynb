{
  "nbformat": 4,
  "nbformat_minor": 0,
  "metadata": {
    "colab": {
      "name": "TASK 19.ipynb",
      "provenance": []
    },
    "kernelspec": {
      "name": "python3",
      "display_name": "Python 3"
    },
    "language_info": {
      "name": "python"
    }
  },
  "cells": [
    {
      "cell_type": "markdown",
      "metadata": {
        "id": "6J-6GvX2JUcC"
      },
      "source": [
        "1. Create a DataFrame by passing a random numpy array,with a dateted index and labelled columns and display,\n",
        "  - where values of the column A is greater than 0.\n",
        "  - where values of the columns A is greater than 0 and B greater than -1.\n",
        "  - where values of the columns A  is greater than 0 or B greater than -1.\n"
      ]
    },
    {
      "cell_type": "code",
      "metadata": {
        "id": "xX-5VikpLcHL"
      },
      "source": [
        "#please type your code below this line.\n",
        "import numpy as np\n",
        "import pandas as pd\n",
        "\n",
        "date = pd.date_range('2021-09-15',periods=4)\n",
        "df = pd.DataFrame(np.random.randn(4,2), index=date, columns=list('AB'))\n",
        "print(df)\n",
        "\n",
        "df1 = df['A']>0\n",
        "print(df1)\n",
        "\n",
        "df2 = df[(df.A > 0) & (df.B > -1)]\n",
        "print(df2)\n",
        "\n",
        "df3 = df[(df.A > 0) | (df.B > -1)]\n",
        "print(df3)"
      ],
      "execution_count": null,
      "outputs": []
    },
    {
      "cell_type": "markdown",
      "metadata": {
        "id": "1WAf9SbwLp6o"
      },
      "source": [
        "2. Create a DataFrame by passing a random numpy array,with a dateted index and labelled columns and check if ,\n",
        "  - the values of the table are greater the zero or not.\n",
        "  - the value at the postion (0,0) is equal to NaN or not."
      ]
    },
    {
      "cell_type": "code",
      "metadata": {
        "id": "rBrt8pMeM2Q5",
        "outputId": "a0e3dbbe-cac7-481f-ea7b-64e6fc5f9548",
        "colab": {
          "base_uri": "https://localhost:8080/"
        }
      },
      "source": [
        "#please type your code below this line.\n",
        "import numpy as np\n",
        "import pandas as pd\n",
        "from numpy import NaN\n",
        "\n",
        "print(df)\n",
        "\n",
        "print(\"1)\")\n",
        "df1 = df[df>0]\n",
        "print(df1)\n",
        "\n",
        "print(\"2)\")\n",
        "df2 = df.iloc[0,0]==NaN\n",
        "print(df2)"
      ],
      "execution_count": 36,
      "outputs": [
        {
          "output_type": "stream",
          "name": "stdout",
          "text": [
            "                   A         B\n",
            "2021-09-15 -1.908115  0.842506\n",
            "2021-09-16  1.632500 -0.010742\n",
            "2021-09-17  0.093487 -2.032868\n",
            "2021-09-18  0.287105 -0.401192\n",
            "1)\n",
            "                   A         B\n",
            "2021-09-15       NaN  0.842506\n",
            "2021-09-16  1.632500       NaN\n",
            "2021-09-17  0.093487       NaN\n",
            "2021-09-18  0.287105       NaN\n",
            "2)\n",
            "False\n"
          ]
        }
      ]
    },
    {
      "cell_type": "markdown",
      "metadata": {
        "id": "IfM9XYmiNaKB"
      },
      "source": [
        "3. Create a DataFrame by passing a random numpy array,with a dateted index and labelled columns and,\n",
        "  - reindex the index with even dates.\n",
        "  - create a column with values NaN.\n",
        "  - make the values of the first two index of the newly created column as 1"
      ]
    },
    {
      "cell_type": "code",
      "metadata": {
        "id": "F-w8kEfaORg3",
        "outputId": "d8a4189f-73f0-4d5d-ee0a-db6fc8e2f36c",
        "colab": {
          "base_uri": "https://localhost:8080/"
        }
      },
      "source": [
        "#please type your answer below this line.\n",
        "import numpy as np\n",
        "import pandas as pd\n",
        "from numpy import NaN\n",
        "\n",
        "print(df)\n",
        "\n",
        "dates = ['2021-09-15','2021-09-17','2021-09-19','2021-09-21']\n",
        "df1 = df.reindex(index=dates)\n",
        "print(df1)\n",
        "\n",
        "list = ['A','B','C']\n",
        "df2 = df.reindex(list, axis = 'columns')\n",
        "print(df2)\n",
        "\n",
        "df3[\"C\"] = [\"1\",\"1\",\"NaN\",\"NaN\"]\n",
        "print(df3)"
      ],
      "execution_count": 35,
      "outputs": [
        {
          "output_type": "stream",
          "name": "stdout",
          "text": [
            "                   A         B\n",
            "2021-09-15 -1.908115  0.842506\n",
            "2021-09-16  1.632500 -0.010742\n",
            "2021-09-17  0.093487 -2.032868\n",
            "2021-09-18  0.287105 -0.401192\n",
            "             A   B\n",
            "2021-09-15 NaN NaN\n",
            "2021-09-17 NaN NaN\n",
            "2021-09-19 NaN NaN\n",
            "2021-09-21 NaN NaN\n",
            "                   A         B   C\n",
            "2021-09-15 -1.908115  0.842506 NaN\n",
            "2021-09-16  1.632500 -0.010742 NaN\n",
            "2021-09-17  0.093487 -2.032868 NaN\n",
            "2021-09-18  0.287105 -0.401192 NaN\n",
            "                   A         B    C\n",
            "2021-09-15 -1.908115  0.842506    1\n",
            "2021-09-16  1.632500 -0.010742    1\n",
            "2021-09-17  0.093487 -2.032868  NaN\n",
            "2021-09-18  0.287105 -0.401192  NaN\n"
          ]
        }
      ]
    }
  ]
}
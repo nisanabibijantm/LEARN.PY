{
  "nbformat": 4,
  "nbformat_minor": 0,
  "metadata": {
    "colab": {
      "name": "TASK 20.ipynb",
      "provenance": []
    },
    "kernelspec": {
      "name": "python3",
      "display_name": "Python 3"
    },
    "language_info": {
      "name": "python"
    }
  },
  "cells": [
    {
      "cell_type": "markdown",
      "metadata": {
        "id": "8LIfdcjDWmC3"
      },
      "source": [
        "1. In the data given below,\n",
        "  - find the boolean mask where value is nan\n",
        "  - remove the row with missing data.\n"
      ]
    },
    {
      "cell_type": "markdown",
      "metadata": {
        "id": "VPCGISRTbYPz"
      },
      "source": [
        ""
      ]
    },
    {
      "cell_type": "code",
      "metadata": {
        "colab": {
          "base_uri": "https://localhost:8080/"
        },
        "id": "VsZQYRqXXHpG",
        "outputId": "c6fc1450-c34b-4d2a-d1ed-8b02834d6007"
      },
      "source": [
        "import pandas as pd\n",
        "import numpy as np\n",
        "dates = pd.date_range('20210101',periods=6)\n",
        "df = pd.DataFrame(np.random.randn(6,4), index=dates,columns=list('ABCD'))\n",
        "s1 = pd.Series([1,2,3,4,5,6], index=pd.date_range('20130102', periods=6))\n",
        "df[\"F\"]=s1\n",
        "df1=df.reindex(index=dates[0:4], columns=list(df.columns) + ['E'])\n",
        "df1.loc[dates[0]:dates[1],'E'] = 1\n",
        "df1\n",
        "#please provide your answer below this line\n",
        "print(df1)\n",
        "\n",
        "df2 = pd.isna(df1)\n",
        "print(df2)\n",
        "\n",
        "df3 = df1.dropna(how=\"any\")\n",
        "print(df3)"
      ],
      "execution_count": 7,
      "outputs": [
        {
          "output_type": "stream",
          "name": "stdout",
          "text": [
            "                   A         B         C         D   F    E\n",
            "2021-01-01 -0.749263 -0.593970  1.563709  0.566478 NaN  1.0\n",
            "2021-01-02  0.045370  0.824573 -0.078083 -0.693166 NaN  1.0\n",
            "2021-01-03  0.067410 -1.021010 -1.130980 -1.777131 NaN  NaN\n",
            "2021-01-04 -0.763000 -0.027502 -1.072886 -1.189017 NaN  NaN\n",
            "                A      B      C      D     F      E\n",
            "2021-01-01  False  False  False  False  True  False\n",
            "2021-01-02  False  False  False  False  True  False\n",
            "2021-01-03  False  False  False  False  True   True\n",
            "2021-01-04  False  False  False  False  True   True\n",
            "Empty DataFrame\n",
            "Columns: [A, B, C, D, F, E]\n",
            "Index: []\n"
          ]
        }
      ]
    },
    {
      "cell_type": "markdown",
      "metadata": {
        "id": "z1sv0aluZhcd"
      },
      "source": [
        "2. In the data given below,fill the missing data with 20."
      ]
    },
    {
      "cell_type": "code",
      "metadata": {
        "colab": {
          "base_uri": "https://localhost:8080/"
        },
        "id": "x3ZHFCeyZ0j2",
        "outputId": "519ef903-4246-4503-c297-0019e1a6ede1"
      },
      "source": [
        "import pandas as pd\n",
        "import numpy as np\n",
        "dates = pd.date_range('20210101',periods=6)\n",
        "df = pd.DataFrame(np.random.randn(6,4), index=dates,columns=list('ABCD'))\n",
        "s1 = pd.Series([1,2,3,4,5,6], index=pd.date_range('20130102', periods=6))\n",
        "df[\"F\"]=s1\n",
        "df1=df.reindex(index=dates[0:4], columns=list(df.columns) + ['E'])\n",
        "df1.loc[dates[0]:dates[1],'E'] = 1\n",
        "df1\n",
        "#please provide your answer below this line\n",
        "print(df1)\n",
        "\n",
        "df2 = df1.fillna(value=20)\n",
        "print(df2)"
      ],
      "execution_count": 8,
      "outputs": [
        {
          "output_type": "stream",
          "name": "stdout",
          "text": [
            "                   A         B         C         D   F    E\n",
            "2021-01-01 -1.989363 -0.616042 -0.465065  1.056753 NaN  1.0\n",
            "2021-01-02 -0.691066 -0.360510 -0.014851  1.916942 NaN  1.0\n",
            "2021-01-03  1.420626  0.281605  0.694703 -0.817672 NaN  NaN\n",
            "2021-01-04  0.068172  0.216801  1.247079 -1.225075 NaN  NaN\n",
            "                   A         B         C         D     F     E\n",
            "2021-01-01 -1.989363 -0.616042 -0.465065  1.056753  20.0   1.0\n",
            "2021-01-02 -0.691066 -0.360510 -0.014851  1.916942  20.0   1.0\n",
            "2021-01-03  1.420626  0.281605  0.694703 -0.817672  20.0  20.0\n",
            "2021-01-04  0.068172  0.216801  1.247079 -1.225075  20.0  20.0\n"
          ]
        }
      ]
    },
    {
      "cell_type": "markdown",
      "metadata": {
        "id": "vMzwvpxcZ3G8"
      },
      "source": [
        "3. From the data given below,\n",
        "  - break the data in to pieces from 0 t0 2 ,3 t0 7\n",
        "  - concatenate the pieces.\n",
        "  - concatenate the pieces along axis 1\n",
        "  - label each as 'a' and 'b' respectively and perform concatenation."
      ]
    },
    {
      "cell_type": "code",
      "metadata": {
        "colab": {
          "base_uri": "https://localhost:8080/",
          "height": 357
        },
        "id": "LxGwKPTVbbXV",
        "outputId": "2032a736-39ad-4f36-e131-ea3c48f0261d"
      },
      "source": [
        "import pandas as pd\n",
        "import numpy as np\n",
        "df = pd.DataFrame(np.random.randn(10, 4))\n",
        "df\n",
        "#please provide your answer below this line\n",
        "print(df)\n",
        "pieces = [df[0:2],df[3:7]]\n",
        "\n",
        "df1 = df[0:2]\n",
        "df2 = df[3:7]\n",
        "print(df1)\n",
        "print(df2)\n",
        " \n",
        " df3 = pd.concat([df1,df2])\n",
        " print(df3)\n",
        "\n",
        " df4 = pd.concat([df1,df2], axis=1)\n",
        " print(df4)\n",
        "\n",
        " df5 = pd.concat(pieces,keys=[\"a\", \"b\"])\n",
        " print(df5)"
      ],
      "execution_count": null,
      "outputs": [
        {
          "output_type": "execute_result",
          "data": {
            "text/html": [
              "<div>\n",
              "<style scoped>\n",
              "    .dataframe tbody tr th:only-of-type {\n",
              "        vertical-align: middle;\n",
              "    }\n",
              "\n",
              "    .dataframe tbody tr th {\n",
              "        vertical-align: top;\n",
              "    }\n",
              "\n",
              "    .dataframe thead th {\n",
              "        text-align: right;\n",
              "    }\n",
              "</style>\n",
              "<table border=\"1\" class=\"dataframe\">\n",
              "  <thead>\n",
              "    <tr style=\"text-align: right;\">\n",
              "      <th></th>\n",
              "      <th>0</th>\n",
              "      <th>1</th>\n",
              "      <th>2</th>\n",
              "      <th>3</th>\n",
              "    </tr>\n",
              "  </thead>\n",
              "  <tbody>\n",
              "    <tr>\n",
              "      <th>0</th>\n",
              "      <td>0.282895</td>\n",
              "      <td>-0.271730</td>\n",
              "      <td>0.567977</td>\n",
              "      <td>-0.326143</td>\n",
              "    </tr>\n",
              "    <tr>\n",
              "      <th>1</th>\n",
              "      <td>0.453375</td>\n",
              "      <td>0.449479</td>\n",
              "      <td>-0.674270</td>\n",
              "      <td>-0.429871</td>\n",
              "    </tr>\n",
              "    <tr>\n",
              "      <th>2</th>\n",
              "      <td>1.945358</td>\n",
              "      <td>0.724835</td>\n",
              "      <td>-1.106416</td>\n",
              "      <td>-0.109206</td>\n",
              "    </tr>\n",
              "    <tr>\n",
              "      <th>3</th>\n",
              "      <td>0.231022</td>\n",
              "      <td>-1.157000</td>\n",
              "      <td>-0.037937</td>\n",
              "      <td>0.596974</td>\n",
              "    </tr>\n",
              "    <tr>\n",
              "      <th>4</th>\n",
              "      <td>-1.406459</td>\n",
              "      <td>1.477057</td>\n",
              "      <td>1.672256</td>\n",
              "      <td>0.215526</td>\n",
              "    </tr>\n",
              "    <tr>\n",
              "      <th>5</th>\n",
              "      <td>-1.210518</td>\n",
              "      <td>-1.126401</td>\n",
              "      <td>-0.694657</td>\n",
              "      <td>0.885263</td>\n",
              "    </tr>\n",
              "    <tr>\n",
              "      <th>6</th>\n",
              "      <td>0.112375</td>\n",
              "      <td>1.087429</td>\n",
              "      <td>1.539120</td>\n",
              "      <td>0.718470</td>\n",
              "    </tr>\n",
              "    <tr>\n",
              "      <th>7</th>\n",
              "      <td>0.519946</td>\n",
              "      <td>0.064309</td>\n",
              "      <td>0.308372</td>\n",
              "      <td>-0.912691</td>\n",
              "    </tr>\n",
              "    <tr>\n",
              "      <th>8</th>\n",
              "      <td>-0.665896</td>\n",
              "      <td>-0.994825</td>\n",
              "      <td>0.077734</td>\n",
              "      <td>-0.215318</td>\n",
              "    </tr>\n",
              "    <tr>\n",
              "      <th>9</th>\n",
              "      <td>-0.793756</td>\n",
              "      <td>0.211942</td>\n",
              "      <td>-2.339138</td>\n",
              "      <td>1.447972</td>\n",
              "    </tr>\n",
              "  </tbody>\n",
              "</table>\n",
              "</div>"
            ],
            "text/plain": [
              "          0         1         2         3\n",
              "0  0.282895 -0.271730  0.567977 -0.326143\n",
              "1  0.453375  0.449479 -0.674270 -0.429871\n",
              "2  1.945358  0.724835 -1.106416 -0.109206\n",
              "3  0.231022 -1.157000 -0.037937  0.596974\n",
              "4 -1.406459  1.477057  1.672256  0.215526\n",
              "5 -1.210518 -1.126401 -0.694657  0.885263\n",
              "6  0.112375  1.087429  1.539120  0.718470\n",
              "7  0.519946  0.064309  0.308372 -0.912691\n",
              "8 -0.665896 -0.994825  0.077734 -0.215318\n",
              "9 -0.793756  0.211942 -2.339138  1.447972"
            ]
          },
          "metadata": {},
          "execution_count": 12
        }
      ]
    },
    {
      "cell_type": "code",
      "metadata": {
        "id": "h290MAgudPQI"
      },
      "source": [
        ""
      ],
      "execution_count": null,
      "outputs": []
    }
  ]
}
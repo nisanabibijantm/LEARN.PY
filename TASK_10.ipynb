{
  "nbformat": 4,
  "nbformat_minor": 0,
  "metadata": {
    "colab": {
      "name": "TASK 10.ipynb",
      "provenance": []
    },
    "kernelspec": {
      "name": "python3",
      "display_name": "Python 3"
    },
    "language_info": {
      "name": "python"
    }
  },
  "cells": [
    {
      "cell_type": "markdown",
      "metadata": {
        "id": "VHKxwUewxOi2"
      },
      "source": [
        "1. Generate two  3 x 3 matrix and find it's dot product and take the transpose of the answer."
      ]
    },
    {
      "cell_type": "code",
      "metadata": {
        "id": "RdyKd1CAxZtR",
        "outputId": "4ca29d1d-0570-47a7-e1e7-11bafa42bcad",
        "colab": {
          "base_uri": "https://localhost:8080/"
        }
      },
      "source": [
        "#please provide your answer below this line.\n",
        "import numpy as np \n",
        "\n",
        "x = np.arange(0,9).reshape(3,3)\n",
        "print(x) \n",
        "\n",
        "y = np.arange(1,10).reshape(3,3) \n",
        "print(y) \n",
        "\n",
        "z = np.dot(x,y) \n",
        "print(z) \n",
        "\n",
        "w = z.T\n",
        "print(w)"
      ],
      "execution_count": 19,
      "outputs": [
        {
          "output_type": "stream",
          "text": [
            "[[0 1 2]\n",
            " [3 4 5]\n",
            " [6 7 8]]\n",
            "[[1 2 3]\n",
            " [4 5 6]\n",
            " [7 8 9]]\n",
            "[[ 18  21  24]\n",
            " [ 54  66  78]\n",
            " [ 90 111 132]]\n",
            "[[ 18  54  90]\n",
            " [ 21  66 111]\n",
            " [ 24  78 132]]\n"
          ],
          "name": "stdout"
        }
      ]
    },
    {
      "cell_type": "markdown",
      "metadata": {
        "id": "9c9ZwiBxxf4t"
      },
      "source": [
        "2. Create a 3x3 matrix with elements [55,25,15], [30,44,2], [11,45,77] . Now find the determinant of the given matrix."
      ]
    },
    {
      "cell_type": "code",
      "metadata": {
        "id": "Anmr3C9KyNyy",
        "outputId": "7f8bbb17-9690-400e-863b-0f5c8bcc8181",
        "colab": {
          "base_uri": "https://localhost:8080/"
        }
      },
      "source": [
        "#please provide your answer below this line.\n",
        "import numpy as np \n",
        "\n",
        "n_array = np.array([[55, 25, 15], \n",
        "                    [30, 44, 2], \n",
        "                    [11, 45, 77]]) \n",
        "\n",
        " \n",
        "print(\"Numpy Matrix is:\") \n",
        "\n",
        "print(n_array) \n",
        "\n",
        "   \n",
        "det = np.linalg.det(n_array) \n",
        "\n",
        "     \n",
        "print(\"\\nDeterminant of given 3X3 square matrix:\") \n",
        "\n",
        "print(int(det))"
      ],
      "execution_count": 18,
      "outputs": [
        {
          "output_type": "stream",
          "text": [
            "Numpy Matrix is:\n",
            "[[55 25 15]\n",
            " [30 44  2]\n",
            " [11 45 77]]\n",
            "\n",
            "Determinant of given 3X3 square matrix:\n",
            "137180\n"
          ],
          "name": "stdout"
        }
      ]
    }
  ]
}
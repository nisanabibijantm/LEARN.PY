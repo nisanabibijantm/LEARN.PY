{
  "nbformat": 4,
  "nbformat_minor": 0,
  "metadata": {
    "colab": {
      "name": "Copy of TASK 6.ipynb",
      "provenance": []
    },
    "kernelspec": {
      "name": "python3",
      "display_name": "Python 3"
    },
    "language_info": {
      "name": "python"
    }
  },
  "cells": [
    {
      "cell_type": "markdown",
      "metadata": {
        "id": "2aT_QhgIny6V"
      },
      "source": [
        "1. Write a Python program to find those numbers which are divisible by 7 and multiple of 11, between 1000 and 2000 (both included)."
      ]
    },
    {
      "cell_type": "code",
      "metadata": {
        "id": "KlFG2BFZoEEU",
        "colab": {
          "base_uri": "https://localhost:8080/"
        },
        "outputId": "f6318acf-2273-4f0f-ad66-022233cf9980"
      },
      "source": [
        "#please enter your answer below this line\n",
        "for i in range(1000,2000):\n",
        "    if i%7==0 and i%11==0:\n",
        "        print(\"  \",i)"
      ],
      "execution_count": 3,
      "outputs": [
        {
          "output_type": "stream",
          "text": [
            "   1001\n",
            "   1078\n",
            "   1155\n",
            "   1232\n",
            "   1309\n",
            "   1386\n",
            "   1463\n",
            "   1540\n",
            "   1617\n",
            "   1694\n",
            "   1771\n",
            "   1848\n",
            "   1925\n"
          ],
          "name": "stdout"
        }
      ]
    },
    {
      "cell_type": "markdown",
      "metadata": {
        "id": "ZesHXUMboLu7"
      },
      "source": [
        "2. Write a program to print this pattern\n",
        "\n",
        "           #\n",
        "          ## \n",
        "         ###"
      ]
    },
    {
      "cell_type": "code",
      "metadata": {
        "id": "64-aUjWbohqz"
      },
      "source": [
        "#please enter your answer below this line\n",
        "rows = int(input(\"Enter the number of rows:\")) \n",
        "\n",
        "for i in range(rows+1):\n",
        "    for j in range(rows+1-i):\n",
        "      print(\" \",end='') \n",
        "    for k in range(1,i+1):\n",
        "      print(\"#\",end='') \n",
        "    print(\"\")"
      ],
      "execution_count": null,
      "outputs": []
    },
    {
      "cell_type": "markdown",
      "metadata": {
        "id": "6ZepaaI-ow6W"
      },
      "source": [
        "3. list=[apple, orange, apple, banana]\n",
        ". Replace all the apple in the list with grapes using for loop"
      ]
    },
    {
      "cell_type": "code",
      "metadata": {
        "id": "D7UOyf_6o6Ax",
        "colab": {
          "base_uri": "https://localhost:8080/"
        },
        "outputId": "537dfae8-aca3-4177-be56-1c005d1013dc"
      },
      "source": [
        "#please enter your answer below this line\n",
        "fruits = [\"apple\",\"orange\",\"apple\",\"banana\"]\n",
        "for i,item in enumerate (fruits):\n",
        " if item == \"apple\":\n",
        "    fruits[i]=\"grapes\"\n",
        "    print(fruits)"
      ],
      "execution_count": 7,
      "outputs": [
        {
          "output_type": "stream",
          "text": [
            "['grapes', 'orange', 'apple', 'banana']\n",
            "['grapes', 'orange', 'grapes', 'banana']\n"
          ],
          "name": "stdout"
        }
      ]
    }
  ]
}
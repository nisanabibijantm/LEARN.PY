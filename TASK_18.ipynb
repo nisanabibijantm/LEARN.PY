{
  "nbformat": 4,
  "nbformat_minor": 0,
  "metadata": {
    "colab": {
      "name": "TASK 18.ipynb",
      "provenance": []
    },
    "kernelspec": {
      "name": "python3",
      "display_name": "Python 3"
    },
    "language_info": {
      "name": "python"
    }
  },
  "cells": [
    {
      "cell_type": "markdown",
      "metadata": {
        "id": "_JgXT8pEAjU4"
      },
      "source": [
        "1. \n",
        "Create a DataFrame by passing a random numpy array,with a datetie index and labelled columns.and,\n",
        "    - slice its first three rows and display.\n",
        "    - slice its odd indexed rows.\n",
        "    - display the dates from 1st postion to 4 th position."
      ]
    },
    {
      "cell_type": "code",
      "metadata": {
        "id": "5zFM5VOJBKBV",
        "outputId": "a2912792-c3b1-4050-a56c-04cfa70449ab",
        "colab": {
          "base_uri": "https://localhost:8080/"
        }
      },
      "source": [
        "#please provide your answer below this line.\n",
        "import numpy as np\n",
        "import pandas as pd \n",
        "datetie = pd.date_range('2021-09-01',periods=6)\n",
        "df = pd.DataFrame(np.random.randn(6,6),index=datetie,columns=list('ABCDEF'))\n",
        "df1 = df.iloc[0:3]\n",
        "print(\"First 3 rows\") \n",
        "print(df1)\n",
        "\n",
        "df2 = df.iloc[0::2]\n",
        "print(\"Odd indexed rows\") \n",
        "print(df2) \n",
        "\n",
        "df3 = df.iloc[1:4,0:0]\n",
        "print(\"Dates from 1st position to 4th position\") \n",
        "print(df3)"
      ],
      "execution_count": 11,
      "outputs": [
        {
          "output_type": "stream",
          "name": "stdout",
          "text": [
            "First 3 rows\n",
            "                   A         B         C         D         E         F\n",
            "2021-09-01 -0.794583  0.765977 -0.017398  1.039286 -0.542634  1.310814\n",
            "2021-09-02  0.945457 -0.809785  0.120082 -0.534081  0.301123 -0.630032\n",
            "2021-09-03 -0.060792 -0.829172  0.630334  0.696337 -0.226424 -1.588967\n",
            "Odd indexed rows\n",
            "                   A         B         C         D         E         F\n",
            "2021-09-01 -0.794583  0.765977 -0.017398  1.039286 -0.542634  1.310814\n",
            "2021-09-03 -0.060792 -0.829172  0.630334  0.696337 -0.226424 -1.588967\n",
            "2021-09-05  0.379295 -0.440439  0.087311 -1.390146 -0.735817  0.279714\n",
            "Dates from 1st position to 4th position\n",
            "Empty DataFrame\n",
            "Columns: []\n",
            "Index: [2021-09-02 00:00:00, 2021-09-03 00:00:00, 2021-09-04 00:00:00]\n"
          ]
        }
      ]
    },
    {
      "cell_type": "markdown",
      "metadata": {
        "id": "QuoucvjxBPmX"
      },
      "source": [
        "2. Create a DataFrame by passing a random numpy array,with a datetie index and labelled columns.and\n",
        "  - Dislplay the index from the 1 to 3 date and the columns A and B of respective data.\n",
        "  - Display the datas at the 3rd index.\n",
        "  - Display datas from 2nd to 5th.\n",
        "  - Display the datas from the index 1,2,4 and the column 0 and 2."
      ]
    },
    {
      "cell_type": "code",
      "metadata": {
        "id": "qV_wzsp1DUKI",
        "outputId": "dd421e7a-cec6-4e1b-ff55-1fa083bd3c9a",
        "colab": {
          "base_uri": "https://localhost:8080/"
        }
      },
      "source": [
        "#please provide your answer below thins line.\n",
        "df1 = df.loc[['2021-09-03','2021-09-03','2021-09-04'],['A','B']]\n",
        "print(df1) \n",
        "\n",
        "df2 = df.loc['2021-09-04']\n",
        "print(\"Dates at the 3rd index\") \n",
        "print(df2) \n",
        "\n",
        "df3 = df.loc[['2021-09-03','2021-09-04','2021-09-05','2021-09-06']]\n",
        "print(\"Dates from index 2nd to 5th\")\n",
        "print(df3) \n",
        "\n",
        "df4 = df.loc[['2021-09-02','2021-09-03','2021-09-05'],['A','C']]\n",
        "print(\"Dates from the Index 1,2,4 and the column 0 and 2\")\n",
        "print(df4)"
      ],
      "execution_count": 12,
      "outputs": [
        {
          "output_type": "stream",
          "name": "stdout",
          "text": [
            "                   A         B\n",
            "2021-09-03 -0.060792 -0.829172\n",
            "2021-09-03 -0.060792 -0.829172\n",
            "2021-09-04  0.579217  0.880426\n",
            "Dates at the 3rd index\n",
            "A    0.579217\n",
            "B    0.880426\n",
            "C    0.754945\n",
            "D   -0.046936\n",
            "E    0.849522\n",
            "F   -0.304466\n",
            "Name: 2021-09-04 00:00:00, dtype: float64\n",
            "Dates from index 2nd to 5th\n",
            "                   A         B         C         D         E         F\n",
            "2021-09-03 -0.060792 -0.829172  0.630334  0.696337 -0.226424 -1.588967\n",
            "2021-09-04  0.579217  0.880426  0.754945 -0.046936  0.849522 -0.304466\n",
            "2021-09-05  0.379295 -0.440439  0.087311 -1.390146 -0.735817  0.279714\n",
            "2021-09-06  0.208608  0.240513  0.816263 -0.621146 -0.435278 -0.372848\n",
            "Dates from the Index 1,2,4 and the column 0 and 2\n",
            "                   A         C\n",
            "2021-09-02  0.945457  0.120082\n",
            "2021-09-03 -0.060792  0.630334\n",
            "2021-09-05  0.379295  0.087311\n"
          ]
        }
      ]
    }
  ]
}
{
  "nbformat": 4,
  "nbformat_minor": 0,
  "metadata": {
    "colab": {
      "name": "TASK 13.ipynb",
      "provenance": []
    },
    "kernelspec": {
      "name": "python3",
      "display_name": "Python 3"
    },
    "language_info": {
      "name": "python"
    }
  },
  "cells": [
    {
      "cell_type": "markdown",
      "metadata": {
        "id": "RUSoRkrOqNwf"
      },
      "source": [
        "1. Create a 3x3 array values ranging from 0-8.Find the sum of the elements in this array."
      ]
    },
    {
      "cell_type": "code",
      "metadata": {
        "id": "t01ATYQpqq8u",
        "outputId": "7364b199-c897-430a-a373-b453463f9d57",
        "colab": {
          "base_uri": "https://localhost:8080/"
        }
      },
      "source": [
        "#please enter your code below this line.\n",
        "import numpy as np\n",
        "x = np.arange(0,9).reshape(3,3)\n",
        "y = np.sum(x)\n",
        "print('Sum of the array is ', y)"
      ],
      "execution_count": 17,
      "outputs": [
        {
          "output_type": "stream",
          "name": "stdout",
          "text": [
            "Sum of the array is  36\n"
          ]
        }
      ]
    },
    {
      "cell_type": "markdown",
      "metadata": {
        "id": "k3Y7nQF7r3IW"
      },
      "source": [
        "2. Create a 3x3 array values ranging from 0-8.Find the row sum and column sum of this array."
      ]
    },
    {
      "cell_type": "code",
      "metadata": {
        "id": "BzvIlWfvsICv",
        "outputId": "7f60e1b2-4b5b-4b55-e35d-d46f6e7a0559",
        "colab": {
          "base_uri": "https://localhost:8080/"
        }
      },
      "source": [
        "#please enter your code below this line.\n",
        "import numpy as np\n",
        "x = np.arange(0,9).reshape(3,3)\n",
        "print(\"sum1, 2, 3: \", x.sum(axis = 1))\n",
        "print(\"sum1, 2, 3: \", x.sum(axis = 0))"
      ],
      "execution_count": 18,
      "outputs": [
        {
          "output_type": "stream",
          "name": "stdout",
          "text": [
            "sum1, 2, 3:  [ 3 12 21]\n",
            "sum1, 2, 3:  [ 9 12 15]\n"
          ]
        }
      ]
    },
    {
      "cell_type": "markdown",
      "metadata": {
        "id": "KOPMsbnrsgue"
      },
      "source": [
        "3. Create a 4x4 array values ranging from 0-15. Now,\n",
        "\n",
        "    a) Find the mininmum value in the array.\n",
        "    \n",
        "    b) Find the maximum value in the array.\n",
        "\n",
        "    c) Find the mean of the values in the array."
      ]
    },
    {
      "cell_type": "code",
      "metadata": {
        "id": "1UzITxp3WDaW",
        "outputId": "4993af08-a9fb-4b1a-dc8c-0dcdbaeda8de",
        "colab": {
          "base_uri": "https://localhost:8080/"
        }
      },
      "source": [
        "#please enter your code belowthis line.\n",
        "import numpy as np\n",
        "x = np.arange(0,16).reshape(4,4)\n",
        "y = np.min(x)\n",
        "z = np.max(x)\n",
        "w = np.mean(x)\n",
        "print(y)\n",
        "print(z)\n",
        "print(w)"
      ],
      "execution_count": 19,
      "outputs": [
        {
          "output_type": "stream",
          "name": "stdout",
          "text": [
            "0\n",
            "15\n",
            "7.5\n"
          ]
        }
      ]
    },
    {
      "cell_type": "markdown",
      "metadata": {
        "id": "Pah9qGButoz2"
      },
      "source": [
        "4. Create an 10x10 array values ranging from 0-99.And ,\n",
        "\n",
        "    a) Print the 7th row.\n",
        "    \n",
        "    b) Print the rows from 4-8.\n",
        "\n",
        "    c) Print the value at the index 5,5.\n",
        "\n",
        "    d) Print the 5th colomn.\n",
        "\n",
        "    e) Print the columns from 2-5."
      ]
    },
    {
      "cell_type": "code",
      "metadata": {
        "id": "JFXPq0GkvhKi",
        "outputId": "15a9a266-9d99-485d-e917-8567a46f793c",
        "colab": {
          "base_uri": "https://localhost:8080/"
        }
      },
      "source": [
        "#please enter your code below this line.\n",
        "import numpy as np\n",
        "x = np.arange(0,100).reshape (10,10)\n",
        "print(x)\n",
        "\n",
        "print(\"Seventh Row\")\n",
        "print(x[7])\n",
        "\n",
        "print(\"Rows from 4-8\")\n",
        "print(x[4:9])\n",
        "\n",
        "print(\"Value at the Index 5,5\")\n",
        "print(x[5,5])\n",
        "\n",
        "print(\"5th column\")\n",
        "print(x[0:10,5])\n",
        "\n",
        "print(\"Columns from 2-5\")\n",
        "print(x[0:10,2:6])"
      ],
      "execution_count": 16,
      "outputs": [
        {
          "output_type": "stream",
          "name": "stdout",
          "text": [
            "[[ 0  1  2  3  4  5  6  7  8  9]\n",
            " [10 11 12 13 14 15 16 17 18 19]\n",
            " [20 21 22 23 24 25 26 27 28 29]\n",
            " [30 31 32 33 34 35 36 37 38 39]\n",
            " [40 41 42 43 44 45 46 47 48 49]\n",
            " [50 51 52 53 54 55 56 57 58 59]\n",
            " [60 61 62 63 64 65 66 67 68 69]\n",
            " [70 71 72 73 74 75 76 77 78 79]\n",
            " [80 81 82 83 84 85 86 87 88 89]\n",
            " [90 91 92 93 94 95 96 97 98 99]]\n",
            "Seventh Row\n",
            "[70 71 72 73 74 75 76 77 78 79]\n",
            "Rows from 4-8\n",
            "[[40 41 42 43 44 45 46 47 48 49]\n",
            " [50 51 52 53 54 55 56 57 58 59]\n",
            " [60 61 62 63 64 65 66 67 68 69]\n",
            " [70 71 72 73 74 75 76 77 78 79]\n",
            " [80 81 82 83 84 85 86 87 88 89]]\n",
            "Value at the Index 5,5\n",
            "55\n",
            "5th column\n",
            "[ 5 15 25 35 45 55 65 75 85 95]\n",
            "Columns from 2-5\n",
            "[[ 2  3  4  5]\n",
            " [12 13 14 15]\n",
            " [22 23 24 25]\n",
            " [32 33 34 35]\n",
            " [42 43 44 45]\n",
            " [52 53 54 55]\n",
            " [62 63 64 65]\n",
            " [72 73 74 75]\n",
            " [82 83 84 85]\n",
            " [92 93 94 95]]\n"
          ]
        }
      ]
    }
  ]
}